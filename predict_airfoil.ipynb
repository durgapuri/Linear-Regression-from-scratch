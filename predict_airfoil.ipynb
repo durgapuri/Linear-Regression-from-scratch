{
 "cells": [
  {
   "cell_type": "code",
   "execution_count": 215,
   "metadata": {},
   "outputs": [],
   "source": [
    "import numpy as np\n",
    "import pandas as pd\n",
    "import statistics\n",
    "import random\n",
    "from sklearn.metrics import r2_score\n",
    "from sklearn.metrics import mean_squared_error\n",
    "import matplotlib.pyplot as plt\n",
    "from sklearn.metrics import mean_absolute_error"
   ]
  },
  {
   "cell_type": "code",
   "execution_count": 207,
   "metadata": {},
   "outputs": [],
   "source": [
    "num_of_iterations = [50,100,150,200,250,300,400,500,800,1000]\n",
    "# val_of_alpha = [0.001, 0.003, 0.005, 0.008, 0.01, 0.05]\n",
    "final_mse_for_theta = []\n",
    "final_mse_for_alpha = []"
   ]
  },
  {
   "cell_type": "code",
   "execution_count": 221,
   "metadata": {},
   "outputs": [],
   "source": [
    "\n",
    "class Airfoil:\n",
    "    mean_std = list()\n",
    "    theta_val = None\n",
    "    alpha = 0.005\n",
    "    iterations = 1000\n",
    "    \n",
    "    def find_mean_std(self,train_data_frm):\n",
    "        for cols in range(len(train_data_frm.columns)-1):\n",
    "            col = train_data_frm.iloc[:,cols]\n",
    "            mean_val = statistics.mean(col)\n",
    "            std_val = statistics.stdev(col)\n",
    "            self.mean_std.append([mean_val,std_val])\n",
    "        \n",
    "   \n",
    "    def preproccess_data(self,train_data_frm):\n",
    "        for i in range(len(self.mean_std)):\n",
    "            train_data_frm[i] = (train_data_frm[i]-self.mean_std[i][0])/self.mean_std[i][1]\n",
    "        return train_data_frm\n",
    "    \n",
    "      \n",
    "    \n",
    "    def train_validation_split(self,data_frm,validation_data_size):\n",
    "       \n",
    "        if isinstance(validation_data_size, float):\n",
    "            validation_data_size=round(validation_data_size * len(data_frm))\n",
    "        indices=data_frm.index.tolist()\n",
    "        valid_indices=random.sample(indices, validation_data_size)\n",
    "        valid_datafrm=data_frm.loc[valid_indices]\n",
    "        train_datafrm=data_frm.drop(valid_indices)\n",
    "        return train_datafrm, valid_datafrm\n",
    "    \n",
    "        \n",
    "    def run_gradient_descent(self,train_data_frm):\n",
    "        X_data = train_data_frm.iloc[:,:-1].values\n",
    "        Y_data = train_data_frm.iloc[:,-1].values\n",
    "        rows, cols = X_data.shape\n",
    "        X_data = np.c_[np.ones(rows),X_data]\n",
    "#         self.theta_val = np.zeros(X_data.shape[1])\n",
    "#         self.theta_val = np.random.rand(X_data.shape[1]) \n",
    "        self.theta_val = np.empty(X_data.shape[1])\n",
    "        self.theta_val.fill(0)\n",
    "        for i in range(self.iterations):\n",
    "            h = X_data.dot(self.theta_val)\n",
    "            loss_val = h - Y_data\n",
    "            gradient = ((X_data.T.dot(loss_val))/X_data.shape[0])\n",
    "            self.theta_val = self.theta_val - self.alpha * gradient\n",
    "    \n",
    "    \n",
    "    def check_validation_data(self,validation_data_frm):\n",
    "        actual_data = validation_data_frm.iloc[:,-1].values\n",
    "        x_data = validation_data_frm.iloc[:,:-1].values\n",
    "        x_data = np.c_[np.ones(x_data.shape[0]),x_data]\n",
    "        predicted_data = x_data.dot(self.theta_val)\n",
    "#         val = mean_squared_error(actual_data, predicted_data)\n",
    "#         mean_sq_error_it.append()\n",
    "        return actual_data, predicted_data\n",
    "        \n",
    "    \n",
    "    def train(self,train_path):\n",
    "        train_data_frm = pd.read_csv(train_path, header=None)\n",
    "        self.find_mean_std(train_data_frm)\n",
    "        train_data_frm = self.preproccess_data(train_data_frm)\n",
    "        random.seed(0)\n",
    "        train_data_frm, validation_data_frm = self.train_validation_split(train_data_frm, validation_data_size = 0.2)\n",
    "#         li = []\n",
    "#         for it in num_of_iterations:\n",
    "#             self.iterations = it\n",
    "        self.run_gradient_descent(train_data_frm)\n",
    "        actual_data, predicted_data = self.check_validation_data(validation_data_frm)\n",
    "#             li.append(mean_squared_error(actual_data, predicted_data))\n",
    "#         final_mse_for_theta.append(li)\n",
    "        return actual_data, predicted_data\n",
    "\n",
    "        \n",
    "    def predict(self,test_path):\n",
    "        test_data_frm = pd.read_csv(test_path, header=None)\n",
    "        test_data = self.preproccess_data(test_data_frm).values\n",
    "        test_data = np.c_[np.ones(test_data.shape[0]),test_data]\n",
    "        predict_values = test_data.dot(self.theta_val)\n",
    "        return predict_values\n",
    "        \n",
    "        \n",
    "\n",
    "    \n"
   ]
  },
  {
   "cell_type": "code",
   "execution_count": 222,
   "metadata": {},
   "outputs": [],
   "source": [
    "model3 = Airfoil()\n",
    "actual_data, predicted_data = model3.train('/home/jyoti/Documents/SMAI/assign2/Q3/airfoil.csv')\n",
    "# print(actual_data)\n",
    "# print(predicted_data)\n",
    "# print(actual_data)\n",
    "# print(predicted_data)\n",
    "# print(final_mse_for_theta)\n",
    "# print(r2_score())"
   ]
  },
  {
   "cell_type": "markdown",
   "metadata": {},
   "source": [
    "### Graph of Number of Iterations vs Mean Squared Error for different values of theta"
   ]
  },
  {
   "cell_type": "code",
   "execution_count": 199,
   "metadata": {},
   "outputs": [
    {
     "data": {
      "text/plain": [
       "Text(0.5, 1.0, 'Number of Iterations vs Mean Squared Error')"
      ]
     },
     "execution_count": 199,
     "metadata": {},
     "output_type": "execute_result"
    },
    {
     "data": {
      "image/png": "[encoded data removed]",
      "text/plain": [
       "<Figure size 432x288 with 1 Axes>"
      ]
     },
     "metadata": {
      "needs_background": "light"
     },
     "output_type": "display_data"
    }
   ],
   "source": [
    "plt.plot(num_of_iterations,final_mse_for_theta[0], linewidth=2, markersize=12)\n",
    "plt.plot(num_of_iterations,final_mse_for_theta[1],  linewidth=2, markersize=12)\n",
    "plt.plot(num_of_iterations,final_mse_for_theta[2], linewidth=2, markersize=12)\n",
    "plt.xlabel('Number of Iterations') \n",
    "plt.ylabel('Mean Squred Error') \n",
    "plt.title('Number of Iterations vs Mean Squared Error') \n"
   ]
  },
  {
   "cell_type": "markdown",
   "metadata": {},
   "source": [
    "### Graph of Number of Iterations vs Mean Squared Error for different values of alpha"
   ]
  },
  {
   "cell_type": "code",
   "execution_count": 188,
   "metadata": {
    "scrolled": true
   },
   "outputs": [
    {
     "data": {
      "text/plain": [
       "Text(0.5, 1.0, 'Number of Iterations vs Mean Squared Error')"
      ]
     },
     "execution_count": 188,
     "metadata": {},
     "output_type": "execute_result"
    },
    {
     "data": {
      "image/png": "[encoded data removed]",
      "text/plain": [
       "<Figure size 432x288 with 1 Axes>"
      ]
     },
     "metadata": {
      "needs_background": "light"
     },
     "output_type": "display_data"
    }
   ],
   "source": [
    "plt.plot(num_of_iterations,final_mse_for_alpha[0], linewidth=2, markersize=12)\n",
    "plt.plot(num_of_iterations,final_mse_for_alpha[1],  linewidth=2, markersize=12)\n",
    "plt.plot(num_of_iterations,final_mse_for_alpha[2], linewidth=2, markersize=12)\n",
    "plt.xlabel('Number of Iterations') \n",
    "plt.ylabel('Mean Squred Error') \n",
    "plt.title('Number of Iterations vs Mean Squared Error')"
   ]
  },
  {
   "cell_type": "markdown",
   "metadata": {},
   "source": [
    "## Performance Metrics"
   ]
  },
  {
   "cell_type": "markdown",
   "metadata": {},
   "source": [
    "### 1. Mean Squared Error"
   ]
  },
  {
   "cell_type": "code",
   "execution_count": 214,
   "metadata": {},
   "outputs": [
    {
     "name": "stdout",
     "output_type": "stream",
     "text": [
      "Mean Squared Error =  27.488311066679564\n"
     ]
    }
   ],
   "source": [
    "print(\"Mean Squared Error = \",mean_squared_error(actual_data, predicted_data))"
   ]
  },
  {
   "cell_type": "markdown",
   "metadata": {},
   "source": [
    "### 2. R2 Score"
   ]
  },
  {
   "cell_type": "code",
   "execution_count": 213,
   "metadata": {},
   "outputs": [
    {
     "name": "stdout",
     "output_type": "stream",
     "text": [
      "R2 Error =  0.440679823882117\n"
     ]
    }
   ],
   "source": [
    "print(\"R2 Error = \",r2_score(actual_data, predicted_data))"
   ]
  },
  {
   "cell_type": "markdown",
   "metadata": {},
   "source": [
    "### 3. Mean Absolute Error"
   ]
  },
  {
   "cell_type": "code",
   "execution_count": 216,
   "metadata": {},
   "outputs": [
    {
     "name": "stdout",
     "output_type": "stream",
     "text": [
      "Mean Absolute Error =  4.145080003831089\n"
     ]
    }
   ],
   "source": [
    "print(\"Mean Absolute Error = \",mean_absolute_error(actual_data, predicted_data))"
   ]
  },
  {
   "cell_type": "markdown",
   "metadata": {},
   "source": [
    "### Approach in different situations"
   ]
  },
  {
   "cell_type": "markdown",
   "metadata": {},
   "source": [
    "#### 1. When 0-0.5% values are missing :\n",
    "    Better to replace missing continous values with mean and categorical values with mode.However, if it is to be applied limited to small dataset it is better to eliminate the entire case.\n",
    "#### 2. When 8-10% values are missing :\n",
    "    Depending upon the criticality of feature either replace the value by mean for continous values and by mode for categorical data, or drop the corresponding rows or drop the feature itself using PCA.\n",
    "#### 3. When 60-70% values are missing :\n",
    "    Better to drop the feature, since most of the values are missing replacing them would lead to incorrect results."
   ]
  },
  {
   "cell_type": "code",
   "execution_count": null,
   "metadata": {},
   "outputs": [],
   "source": []
  }
 ],
 "metadata": {
  "kernelspec": {
   "display_name": "Python 3",
   "language": "python",
   "name": "python3"
  },
  "language_info": {
   "codemirror_mode": {
    "name": "ipython",
    "version": 3
   },
   "file_extension": ".py",
   "mimetype": "text/x-python",
   "name": "python",
   "nbconvert_exporter": "python",
   "pygments_lexer": "ipython3",
   "version": "3.7.5"
  }
 },
 "nbformat": 4,
 "nbformat_minor": 2
}
