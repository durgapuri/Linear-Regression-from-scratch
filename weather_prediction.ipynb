{
 "cells": [
  {
   "cell_type": "code",
   "execution_count": 213,
   "metadata": {},
   "outputs": [],
   "source": [
    "import numpy as np\n",
    "import pandas as pd\n",
    "import statistics\n",
    "import random\n",
    "from sklearn.metrics import r2_score\n",
    "from sklearn.metrics import mean_squared_error\n",
    "import matplotlib.pyplot as plt\n",
    "from sklearn.metrics import mean_absolute_error\n"
   ]
  },
  {
   "cell_type": "code",
   "execution_count": 198,
   "metadata": {},
   "outputs": [],
   "source": [
    "num_of_iterations = [50,100,150,200,250,300,400,500,800,1000]\n",
    "# val_of_alpha = [0.001, 0.003, 0.005, 0.008, 0.01, 0.05]\n",
    "final_mse_for_theta = []\n",
    "final_mse_for_alpha = []"
   ]
  },
  {
   "cell_type": "code",
   "execution_count": 217,
   "metadata": {},
   "outputs": [],
   "source": [
    "\n",
    "\n",
    "class Weather:\n",
    "    mean_std = list()\n",
    "    theta_val = None\n",
    "    alpha = 0.005\n",
    "    iterations = 1000\n",
    "    \n",
    "    def clean_and_prepare_data(self,train_data_frm):\n",
    "        drop_indices = ['Formatted Date', 'Summary', 'Precip Type', 'Daily Summary']\n",
    "        train_data_frm = train_data_frm.drop(drop_indices,axis=1)\n",
    "        predict_col = train_data_frm.iloc[:,1]\n",
    "        train_data_frm = train_data_frm.drop([\"Apparent Temperature (C)\"],axis=1)\n",
    "        train_data_frm = pd.concat([train_data_frm,predict_col],axis=1)\n",
    "        return train_data_frm\n",
    "    \n",
    "    def find_mean_std(self,train_data_frm):\n",
    "        for cols in range(len(train_data_frm.columns)-1):\n",
    "            col = train_data_frm.iloc[:,cols]\n",
    "            mean_val = statistics.mean(col)\n",
    "            std_val = statistics.stdev(col)\n",
    "            self.mean_std.append([mean_val,std_val])\n",
    "\n",
    "\n",
    "\n",
    "    def preproccess_data(self,train_data_frm):\n",
    "        col_list = ['Temperature (C)', 'Humidity', 'Wind Speed (km/h)',\n",
    "       'Wind Bearing (degrees)', 'Visibility (km)', 'Pressure (millibars)']\n",
    "        j=0\n",
    "        for i in col_list:\n",
    "            train_data_frm[i] = (train_data_frm[i]-self.mean_std[j][0])/self.mean_std[j][1]\n",
    "            j+=1\n",
    "        return train_data_frm\n",
    "    \n",
    "    def run_gradient_descent(self,train_data_frm):\n",
    "#         print(\"set_theta_alpha\")\n",
    "        X_data = train_data_frm.iloc[:,:-1].values\n",
    "        Y_data = train_data_frm.iloc[:,-1].values\n",
    "        rows, cols = X_data.shape\n",
    "        X_data = np.c_[np.ones(rows),X_data]\n",
    "#         print(\"in run gradient descent\")\n",
    "#         print(X_data.shape)\n",
    "        self.theta_val = np.ones(X_data.shape[1])\n",
    "        self.theta_val = np.empty(X_data.shape[1])\n",
    "        self.theta_val.fill(1)\n",
    "        for i in range(self.iterations):\n",
    "            h = X_data.dot(self.theta_val)\n",
    "            loss_val = h - Y_data\n",
    "            gradient = ((X_data.T.dot(loss_val))/X_data.shape[0])\n",
    "            self.theta_val = self.theta_val - self.alpha * gradient\n",
    "#         print(self.theta_val)\n",
    "    \n",
    "    def train_validation_split(self,data_frm,validation_data_size):\n",
    "       \n",
    "        if isinstance(validation_data_size, float):\n",
    "            validation_data_size=round(validation_data_size * len(data_frm))\n",
    "        indices=data_frm.index.tolist()\n",
    "        valid_indices=random.sample(indices, validation_data_size)\n",
    "        valid_datafrm=data_frm.loc[valid_indices]\n",
    "        train_datafrm=data_frm.drop(valid_indices)\n",
    "        return train_datafrm, valid_datafrm\n",
    "    \n",
    "    def check_validation_data(self,validation_data_frm):\n",
    "#         validation_data_frm = self.preproccess_data(validation_data_frm)\n",
    "        actual_data = validation_data_frm.iloc[:,-1].values\n",
    "        x_data = validation_data_frm.iloc[:,:-1].values\n",
    "#         print(x_data)\n",
    "        x_data = np.c_[np.ones(x_data.shape[0]),x_data]\n",
    "        predicted_data = x_data.dot(self.theta_val)\n",
    "        return actual_data, predicted_data\n",
    "    \n",
    "    def train(self,train_path):\n",
    "        train_data_frm = pd.read_csv(train_path)\n",
    "        train_data_frm = self.clean_and_prepare_data(train_data_frm)\n",
    "        self.find_mean_std(train_data_frm)\n",
    "        train_data_frm = self.preproccess_data(train_data_frm)\n",
    "        random.seed(0)\n",
    "        train_data_frm, validation_data_frm = self.train_validation_split(train_data_frm, validation_data_size = 0.4)\n",
    "#         li = []\n",
    "#         for it in num_of_iterations:\n",
    "#             self.iterations = it\n",
    "        self.run_gradient_descent(train_data_frm)\n",
    "        actual_data, predicted_data = self.check_validation_data(validation_data_frm)\n",
    "#             li.append(mean_squared_error(actual_data, predicted_data))\n",
    "#         final_mse_for_theta.append(li)\n",
    "#         actual_data, predicted_data = self.check_validation_data(validation_data_frm)\n",
    "        return actual_data, predicted_data\n",
    "\n",
    "    def predict(self,test_path):\n",
    "        test_data_frm = pd.read_csv(test_path)\n",
    "        drop_indices = ['Formatted Date', 'Summary', 'Precip Type', 'Daily Summary']\n",
    "        test_data_frm = test_data_frm.drop(drop_indices,axis=1)\n",
    "        test_data = self.preproccess_data(test_data_frm).values\n",
    "        test_data = np.c_[np.ones(test_data.shape[0]),test_data]\n",
    "        predict_values = test_data.dot(self.theta_val)\n",
    "        return predict_values\n",
    "    \n",
    "        "
   ]
  },
  {
   "cell_type": "code",
   "execution_count": 218,
   "metadata": {},
   "outputs": [],
   "source": [
    "model4 = Weather()\n",
    "actual_data, predicted_data = model4.train('/home/jyoti/Documents/SMAI/assign2/Q4/Question-4/weather.csv') # Path to the train.csv will be provided\n",
    "# prediction4 = model4.predict('/home/jyoti/Documents/SMAI/assign2/Q4/Question-4/weather_test.csv') \n",
    "# print(actual_data)\n",
    "# print( predicted_data)\n",
    "# print(final_mse_for_theta)"
   ]
  },
  {
   "cell_type": "markdown",
   "metadata": {},
   "source": [
    "## Graph of Number of Iterations vs Mean Squared Error for different values of theta"
   ]
  },
  {
   "cell_type": "code",
   "execution_count": 205,
   "metadata": {},
   "outputs": [
    {
     "data": {
      "text/plain": [
       "Text(0.5, 1.0, 'Number of Iterations vs Mean Squared Error')"
      ]
     },
     "execution_count": 205,
     "metadata": {},
     "output_type": "execute_result"
    },
    {
     "data": {
      "image/png": "[encoded data removed]",
      "text/plain": [
       "<Figure size 432x288 with 1 Axes>"
      ]
     },
     "metadata": {
      "needs_background": "light"
     },
     "output_type": "display_data"
    }
   ],
   "source": [
    "plt.plot(num_of_iterations,final_mse_for_theta[0], linewidth=2, markersize=12)\n",
    "plt.plot(num_of_iterations,final_mse_for_theta[1],  linewidth=2, markersize=12)\n",
    "plt.plot(num_of_iterations,final_mse_for_theta[2], linewidth=2, markersize=12)\n",
    "plt.xlabel('Number of Iterations') \n",
    "plt.ylabel('Mean Squred Error') \n",
    "plt.title('Number of Iterations vs Mean Squared Error') "
   ]
  },
  {
   "cell_type": "markdown",
   "metadata": {},
   "source": [
    "## Performance Metrics"
   ]
  },
  {
   "cell_type": "markdown",
   "metadata": {},
   "source": [
    "### 1. Mean Squared Error"
   ]
  },
  {
   "cell_type": "code",
   "execution_count": 177,
   "metadata": {},
   "outputs": [
    {
     "name": "stdout",
     "output_type": "stream",
     "text": [
      "Mean Squared Error =  1.5899289082413153\n"
     ]
    }
   ],
   "source": [
    "print(\"Mean Squared Error = \",mean_squared_error(actual_data, predicted_data))"
   ]
  },
  {
   "cell_type": "markdown",
   "metadata": {},
   "source": [
    "### 2. R2 Score"
   ]
  },
  {
   "cell_type": "code",
   "execution_count": 180,
   "metadata": {},
   "outputs": [
    {
     "name": "stdout",
     "output_type": "stream",
     "text": [
      "R2 Score =  0.9862064986706661\n"
     ]
    }
   ],
   "source": [
    "print(\"R2 Score = \",r2_score(actual_data, predicted_data))"
   ]
  },
  {
   "cell_type": "markdown",
   "metadata": {},
   "source": [
    "### 3. Mean Absolute Error"
   ]
  },
  {
   "cell_type": "code",
   "execution_count": 179,
   "metadata": {},
   "outputs": [
    {
     "name": "stdout",
     "output_type": "stream",
     "text": [
      "Mean Absolute Error =  1.0017015299020529\n"
     ]
    }
   ],
   "source": [
    "print(\"Mean Absolute Error = \",mean_absolute_error(actual_data, predicted_data))"
   ]
  },
  {
   "cell_type": "markdown",
   "metadata": {},
   "source": [
    "### 4.Mean Absolute Percentage Error"
   ]
  },
  {
   "cell_type": "code",
   "execution_count": 219,
   "metadata": {},
   "outputs": [
    {
     "name": "stdout",
     "output_type": "stream",
     "text": [
      "Mean Absolute Percentage Error =  52.20915207633492\n"
     ]
    }
   ],
   "source": [
    "result= np.empty(actual_data.shape)\n",
    "for j in range(actual_data.shape[0]):\n",
    "    d = 1\n",
    "    if actual_data[j]!=0:\n",
    "        n = (actual_data[j]-predicted_data[j])\n",
    "        d = actual_data[j]\n",
    "        result[j]= n/d\n",
    "    else :\n",
    "        n = predicted_data[j]\n",
    "        d = np.mean(actual_data)\n",
    "        result[j] = n/d\n",
    "        \n",
    "m=np.mean(np.abs(result))*100\n",
    "print(\"Mean Absolute Percentage Error = \",m)"
   ]
  },
  {
   "cell_type": "code",
   "execution_count": null,
   "metadata": {},
   "outputs": [],
   "source": []
  }
 ],
 "metadata": {
  "kernelspec": {
   "display_name": "Python 3",
   "language": "python",
   "name": "python3"
  },
  "language_info": {
   "codemirror_mode": {
    "name": "ipython",
    "version": 3
   },
   "file_extension": ".py",
   "mimetype": "text/x-python",
   "name": "python",
   "nbconvert_exporter": "python",
   "pygments_lexer": "ipython3",
   "version": "3.7.5"
  }
 },
 "nbformat": 4,
 "nbformat_minor": 2
}
